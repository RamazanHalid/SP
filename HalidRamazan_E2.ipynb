{
 "cells": [
  {
   "cell_type": "markdown",
   "id": "900e8bce",
   "metadata": {},
   "source": [
    "Ramazan Halid\n",
    "20160807009\n",
    "Exercise2"
   ]
  },
  {
   "cell_type": "markdown",
   "id": "d67b063d",
   "metadata": {},
   "source": [
    "4 Lists"
   ]
  },
  {
   "cell_type": "markdown",
   "id": "6926171c",
   "metadata": {},
   "source": [
    "Exercise 4.1: Short questions"
   ]
  },
  {
   "cell_type": "code",
   "execution_count": 11,
   "id": "e6299e83",
   "metadata": {},
   "outputs": [
    {
     "name": "stdout",
     "output_type": "stream",
     "text": [
      "1\n",
      "2\n",
      "3\n",
      "4\n",
      "7\n"
     ]
    }
   ],
   "source": [
    "#a  \n",
    "def print_element_of_a_list(my_list):\n",
    "    for x in my_list:\n",
    "        print(x)\n",
    "arr = [1,2,3,4,7]\n",
    "print_element_of_a_list(arr)"
   ]
  },
  {
   "cell_type": "code",
   "execution_count": 7,
   "id": "c05622d1",
   "metadata": {},
   "outputs": [
    {
     "name": "stdout",
     "output_type": "stream",
     "text": [
      "4\n",
      "3\n",
      "2\n",
      "1\n"
     ]
    }
   ],
   "source": [
    "#b\n",
    "def print_element_of_a_list_in_reverse(my_list):\n",
    "    for x in range(len(my_list)-1,-1,-1):\n",
    "        print(my_list[x])\n",
    "print_element_of_a_list_in_reverse(arr)"
   ]
  },
  {
   "cell_type": "code",
   "execution_count": 12,
   "id": "65c6513f",
   "metadata": {},
   "outputs": [
    {
     "data": {
      "text/plain": [
       "5"
      ]
     },
     "execution_count": 12,
     "metadata": {},
     "output_type": "execute_result"
    }
   ],
   "source": [
    "#c\n",
    "def len_of_a_list(my_list):\n",
    "    count = 0\n",
    "    for x in my_list:\n",
    "        count += 1\n",
    "    return count\n",
    "len_of_a_list(arr)"
   ]
  },
  {
   "cell_type": "markdown",
   "id": "626b6759",
   "metadata": {},
   "source": [
    "Exercise 4.2: Copying lists"
   ]
  },
  {
   "cell_type": "code",
   "execution_count": 13,
   "id": "125a748c",
   "metadata": {},
   "outputs": [],
   "source": [
    "#a\n",
    "a = [1,2,3,4,7]"
   ]
  },
  {
   "cell_type": "code",
   "execution_count": 14,
   "id": "c6aafe86",
   "metadata": {},
   "outputs": [],
   "source": [
    "#b\n",
    "b = a"
   ]
  },
  {
   "cell_type": "code",
   "execution_count": 15,
   "id": "378ff460",
   "metadata": {},
   "outputs": [],
   "source": [
    "#c\n",
    "b[1] = 100"
   ]
  },
  {
   "cell_type": "code",
   "execution_count": 16,
   "id": "c8783f78",
   "metadata": {},
   "outputs": [
    {
     "data": {
      "text/plain": [
       "[1, 100, 3, 4, 7]"
      ]
     },
     "execution_count": 16,
     "metadata": {},
     "output_type": "execute_result"
    }
   ],
   "source": [
    "#d\n",
    "# Because of array is a reference type when we assign a to b we actually assign reference number of a.\n",
    "a"
   ]
  },
  {
   "cell_type": "code",
   "execution_count": 17,
   "id": "ca1d8536",
   "metadata": {},
   "outputs": [
    {
     "data": {
      "text/plain": [
       "[1, 100, 3, 4, 7]"
      ]
     },
     "execution_count": 17,
     "metadata": {},
     "output_type": "execute_result"
    }
   ],
   "source": [
    "#e\n",
    "c = a[:]"
   ]
  },
  {
   "cell_type": "code",
   "execution_count": 20,
   "id": "9c1b265c",
   "metadata": {},
   "outputs": [],
   "source": [
    "#f\n",
    "c[2] = 750"
   ]
  },
  {
   "cell_type": "code",
   "execution_count": 19,
   "id": "5c3bcb3b",
   "metadata": {},
   "outputs": [
    {
     "data": {
      "text/plain": [
       "[1, 100, 3, 4, 7]"
      ]
     },
     "execution_count": 19,
     "metadata": {},
     "output_type": "execute_result"
    }
   ],
   "source": [
    "#g\n",
    "# Nothing because in part e we just assign values of a. Not reference assignment.\n",
    "a"
   ]
  },
  {
   "cell_type": "code",
   "execution_count": 25,
   "id": "85d7dfc8",
   "metadata": {},
   "outputs": [
    {
     "name": "stdout",
     "output_type": "stream",
     "text": [
      "[0, 0, 0, 0, 0]\n",
      "[0, 0, 0, 0, 0]\n"
     ]
    }
   ],
   "source": [
    "#Orginal list also changed \n",
    "# Because of array is a reference type when we assign a to l we actually assign reference number of a.\n",
    "def set_first_elem_to_zero(l):\n",
    "    for x in range(len(l)):\n",
    "        l[x] = 0\n",
    "    return l\n",
    "print(set_first_elem_to_zero(a))\n",
    "print(a)"
   ]
  },
  {
   "cell_type": "markdown",
   "id": "4765a647",
   "metadata": {},
   "source": [
    "Exercise 4.3: Lists of lists\n"
   ]
  },
  {
   "cell_type": "code",
   "execution_count": 27,
   "id": "8764add4",
   "metadata": {},
   "outputs": [
    {
     "name": "stdout",
     "output_type": "stream",
     "text": [
      "[[], [], []]\n"
     ]
    }
   ],
   "source": [
    "#a\n",
    "a = [[]] * 3"
   ]
  },
  {
   "cell_type": "code",
   "execution_count": 30,
   "id": "61b6834c",
   "metadata": {},
   "outputs": [
    {
     "data": {
      "text/plain": [
       "[[], [], []]"
      ]
     },
     "execution_count": 30,
     "metadata": {},
     "output_type": "execute_result"
    }
   ],
   "source": [
    "#b\n",
    "b = [[] for _ in range(3)]\n",
    "b"
   ]
  },
  {
   "cell_type": "markdown",
   "id": "565b782f",
   "metadata": {},
   "source": [
    "Exercise 4.4: Lists and functions"
   ]
  },
  {
   "cell_type": "code",
   "execution_count": null,
   "id": "0dea3b4d",
   "metadata": {},
   "outputs": [],
   "source": [
    "def set_zero_to_index_of_list(my_list,index):\n",
    "    my_list[index] = 0"
   ]
  },
  {
   "cell_type": "markdown",
   "id": "fe19ab87",
   "metadata": {},
   "source": [
    "Exercise 4.5: Primes\n"
   ]
  },
  {
   "cell_type": "code",
   "execution_count": null,
   "id": "9c792e1b",
   "metadata": {},
   "outputs": [],
   "source": [
    "def all_primes(n):\n",
    "    prime_list = []\n",
    "    if n > 2:\n",
    "        prime_list.append(2)\n",
    "    if n > 3:\n",
    "        prime_list.append(3)\n",
    "\n",
    "    for i in range(4,n):\n",
    "        if((i+1)%6 == 0 or (i-1)%6 == 0):\n",
    "            prime_list.append(i)\n",
    "    return prime_list\n",
    "all_primes(13)"
   ]
  },
  {
   "cell_type": "markdown",
   "id": "4687b14d",
   "metadata": {},
   "source": [
    "Exercise 4.6: List comprehensions"
   ]
  },
  {
   "cell_type": "code",
   "execution_count": 6,
   "id": "30fb56ff",
   "metadata": {},
   "outputs": [
    {
     "name": "stdout",
     "output_type": "stream",
     "text": [
      "[[0, 0], [0, 1], [0, 2], [0, 3], [0, 4], [0, 5], [0, 6], [0, 7], [1, 0], [1, 1], [1, 2], [1, 3], [1, 4], [1, 5], [1, 6], [1, 7], [2, 0], [2, 1], [2, 2], [2, 3], [2, 4], [2, 5], [2, 6], [2, 7], [3, 0], [3, 1], [3, 2], [3, 3], [3, 4], [3, 5], [3, 6], [3, 7], [4, 0], [4, 1], [4, 2], [4, 3], [4, 4], [4, 5], [4, 6], [4, 7], [5, 0], [5, 1], [5, 2], [5, 3], [5, 4], [5, 5], [5, 6], [5, 7], [6, 0], [6, 1], [6, 2], [6, 3], [6, 4], [6, 5], [6, 6], [6, 7], [7, 0], [7, 1], [7, 2], [7, 3], [7, 4], [7, 5], [7, 6], [7, 7]]\n"
     ]
    }
   ],
   "source": [
    "#a\n",
    "# generate random integer values\n",
    "n = [[i,j] for i in range(8) for j in range(8)]\n",
    "print(n)"
   ]
  },
  {
   "cell_type": "code",
   "execution_count": 7,
   "id": "43eca842",
   "metadata": {},
   "outputs": [
    {
     "name": "stdout",
     "output_type": "stream",
     "text": [
      "[[0, 1], [0, 2], [0, 3], [0, 4], [0, 5], [0, 6], [0, 7], [1, 2], [1, 3], [1, 4], [1, 5], [1, 6], [1, 7], [2, 3], [2, 4], [2, 5], [2, 6], [2, 7], [3, 4], [3, 5], [3, 6], [3, 7], [4, 5], [4, 6], [4, 7], [5, 6], [5, 7], [6, 7]]\n"
     ]
    }
   ],
   "source": [
    "#b\n",
    "n = [[i,j] for i in range(8) for j in range(8) if j > i]\n",
    "print(n)"
   ]
  },
  {
   "cell_type": "code",
   "execution_count": null,
   "id": "e9fcc786",
   "metadata": {},
   "outputs": [],
   "source": [
    "#c\n",
    "for i in range(10):\n",
    "    for j in range(10):\n",
    "            if i < j and all(i % a != 0 for a in range(2, i)) and all(j % b != 0 for b in range(2, j)):\n",
    "                list += [i + j]"
   ]
  },
  {
   "cell_type": "code",
   "execution_count": 2,
   "id": "f6c8d936",
   "metadata": {},
   "outputs": [
    {
     "name": "stdout",
     "output_type": "stream",
     "text": [
      "57\n"
     ]
    }
   ],
   "source": [
    "#d\n",
    "def polynomial(y, x): \n",
    "  n = 0\n",
    "  w = 0\n",
    "  for a in y:\n",
    "    w = w + (a * (x**n))\n",
    "    n += 1\n",
    "  return w\n",
    "print(polynomial([1,2,3], 4))"
   ]
  },
  {
   "cell_type": "markdown",
   "id": "44d46f20",
   "metadata": {},
   "source": [
    "Exercise 4.7: Filter"
   ]
  },
  {
   "cell_type": "code",
   "execution_count": 1,
   "id": "ec09589e",
   "metadata": {},
   "outputs": [],
   "source": [
    "def myfilter(mylist):\n",
    "    return [i for i in mylist]\n"
   ]
  },
  {
   "cell_type": "markdown",
   "id": "8c544da5",
   "metadata": {},
   "source": [
    "Exercise 4.8: Flatten a list of lists"
   ]
  },
  {
   "cell_type": "code",
   "execution_count": 8,
   "id": "8b346101",
   "metadata": {},
   "outputs": [
    {
     "data": {
      "text/plain": [
       "[1, 3, 3, 6]"
      ]
     },
     "execution_count": 8,
     "metadata": {},
     "output_type": "execute_result"
    }
   ],
   "source": [
    "t = [[1,3], [3,6]]\n",
    "def flatten_list(t):\n",
    "    flat_list2 = [item for sublist in t for item in sublist]\n",
    "    return flat_list2\n",
    "flatten_list(t)"
   ]
  },
  {
   "cell_type": "markdown",
   "id": "d0dc37e8",
   "metadata": {},
   "source": [
    "Exercise 4.9: Finding the longest word\n"
   ]
  },
  {
   "cell_type": "code",
   "execution_count": 96,
   "metadata": {},
   "outputs": [
    {
     "name": "stdout",
     "output_type": "stream",
     "text": [
      "Helloqwerqwrqwr\n"
     ]
    }
   ],
   "source": [
    "import string\n",
    "\n",
    "\n",
    "def find_longest_word(my_statment):\n",
    "    new_string = my_statment.translate(str.maketrans(\"\", \"\", string.punctuation))\n",
    "    l = list(new_string.split(\" \"))\n",
    "    s = sorted(l, key=len)\n",
    "    return s[-1]\n",
    "\n",
    "myString = \"Hello, how was the football match earlier today???\"\n",
    "print(find_longest_word(myString))\n"
   ]
  },
  {
   "cell_type": "markdown",
   "id": "fdb9eedd",
   "metadata": {},
   "source": [
    " Collatz sequence, part 2\n"
   ]
  },
  {
   "cell_type": "code",
   "execution_count": 101,
   "id": "21cfcd40",
   "metadata": {},
   "outputs": [
    {
     "name": "stdout",
     "output_type": "stream",
     "text": [
      "[100, 50, 25, 76, 38, 19, 58, 29, 88, 44, 22, 11, 34, 17, 52, 26, 13, 40, 20, 10, 5, 16, 8, 4, 2, 1]\n"
     ]
    }
   ],
   "source": [
    "# a\n",
    "def collatz_sequence(n):\n",
    "    collatz_list = list()  # list to store the values of sequence\n",
    "    while n != 1:\n",
    "        collatz_list.append(n)\n",
    "        # if n is even\n",
    "        if n % 2 == 0:\n",
    "            n = n // 2\n",
    "        else:\n",
    "            # if n is odd\n",
    "            n = (3 * n) + 1\n",
    "    collatz_list.append(1)  # print 1 in the end\n",
    "    return collatz_list\n",
    "\n",
    "\n",
    "print(collatz_sequence(100))\n"
   ]
  },
  {
   "cell_type": "code",
   "execution_count": 103,
   "id": "95fc7806",
   "metadata": {},
   "outputs": [
    {
     "name": "stdout",
     "output_type": "stream",
     "text": [
      "232\n"
     ]
    }
   ],
   "source": [
    "# b\n",
    "def collatz_sequence(n):\n",
    "    collatz_list = list()  # list to store the values of sequence\n",
    "    while n != 1:\n",
    "        collatz_list.append(n)\n",
    "        # if n is even\n",
    "        if n % 2 == 0:\n",
    "            n = n // 2\n",
    "        else:\n",
    "            # if n is odd\n",
    "            n = (3 * n) + 1\n",
    "    collatz_list.append(1)  # print 1 in the end\n",
    "    return max(collatz_list)\n",
    "\n",
    "\n",
    "print(collatz_sequence(154))\n"
   ]
  },
  {
   "cell_type": "markdown",
   "id": "5eeeac1a",
   "metadata": {},
   "source": [
    "Exercise 4.11: Pivots"
   ]
  },
  {
   "cell_type": "code",
   "execution_count": 108,
   "id": "f7c9bd8a",
   "metadata": {},
   "outputs": [
    {
     "name": "stdout",
     "output_type": "stream",
     "text": [
      "[1, 3, 6, 4, 7]\n"
     ]
    }
   ],
   "source": [
    "def pivots(x, ys):\n",
    "    new_list = list()\n",
    "    for w in ys:\n",
    "        if w < x:\n",
    "            ys.remove(w)\n",
    "            new_list.append(w)\n",
    "    new_list.append(x)\n",
    "    new_list.extend(ys)\n",
    "    return new_list\n",
    "\n",
    "\n",
    "print(pivots(3, [6, 4, 1, 7]))\n"
   ]
  },
  {
   "cell_type": "markdown",
   "id": "39fba5d5",
   "metadata": {},
   "source": [
    "Exercise 4.12: Prime challenge"
   ]
  },
  {
   "cell_type": "code",
   "execution_count": 112,
   "id": "5c20b380",
   "metadata": {},
   "outputs": [
    {
     "name": "stdout",
     "output_type": "stream",
     "text": [
      "[2, 3, 5, 7, 11, 13, 17, 19]\n"
     ]
    }
   ],
   "source": [
    "def isPrime(n):\n",
    "     \n",
    "    # Corner case\n",
    "    if n <= 1 :\n",
    "        return False\n",
    " \n",
    "    # check from 2 to n-1\n",
    "    for i in range(2, n):\n",
    "        if n % i == 0:\n",
    "            return False\n",
    " \n",
    "    return True\n",
    "\n",
    "def primes(n):\n",
    "\n",
    "    new_list = [i for i in  range(2, n + 1) if isPrime(i) ]\n",
    "    return new_list     \n",
    "print(primes(20))"
   ]
  },
  {
   "cell_type": "markdown",
   "id": "bb531df0",
   "metadata": {},
   "source": [
    "5 Tuples\n"
   ]
  },
  {
   "cell_type": "markdown",
   "id": "fa9c5d6b",
   "metadata": {},
   "source": [
    "Exercise 5.1: Swapping two values"
   ]
  },
  {
   "cell_type": "code",
   "execution_count": 113,
   "id": "ca976644",
   "metadata": {},
   "outputs": [
    {
     "name": "stdout",
     "output_type": "stream",
     "text": [
      "7 5\n"
     ]
    }
   ],
   "source": [
    "a = 5\n",
    "b = 7\n",
    "(a,b)=(b,a)\n",
    "print(a,b)"
   ]
  },
  {
   "cell_type": "markdown",
   "id": "2199cbec",
   "metadata": {},
   "source": [
    "Exercise 5.2: Zip"
   ]
  },
  {
   "cell_type": "code",
   "execution_count": 133,
   "metadata": {},
   "outputs": [
    {
     "name": "stdout",
     "output_type": "stream",
     "text": [
      "(1, 2, 3) ('a', 'b', 'c')\n"
     ]
    }
   ],
   "source": [
    "x = [1, 2, 3]\n",
    "y = [\"a\", \"b\", \"c\"]\n",
    "zipped = zip(x, y)\n",
    "e, w = zip(*list(zipped))\n",
    "print(e, w)\n"
   ]
  },
  {
   "cell_type": "markdown",
   "id": "115dded4",
   "metadata": {},
   "source": [
    "Exercise 5.3: Distances"
   ]
  },
  {
   "cell_type": "code",
   "execution_count": null,
   "id": "a00a5987",
   "metadata": {},
   "outputs": [],
   "source": []
  },
  {
   "cell_type": "markdown",
   "id": "7db55694",
   "metadata": {},
   "source": [
    "6 Dictionaries\n"
   ]
  },
  {
   "cell_type": "markdown",
   "id": "8ef0191d",
   "metadata": {},
   "source": [
    "Exercise 6.1: Printing a dictionary"
   ]
  },
  {
   "cell_type": "code",
   "execution_count": 146,
   "metadata": {},
   "outputs": [
    {
     "name": "stdout",
     "output_type": "stream",
     "text": [
      "brand Ford\n",
      "model Mustang\n",
      "year 1964\n"
     ]
    }
   ],
   "source": [
    "thisdict = {\"brand\": \"Ford\", \"model\": \"Mustang\", \"year\": 1964}\n",
    "def print_dictionary(my_dictionary):\n",
    "    for i in range(0, len(list(my_dictionary.keys()))):\n",
    "        print(list(my_dictionary.keys())[i] , list(my_dictionary.values())[i]  )\n",
    "print_dictionary(thisdict)"
   ]
  },
  {
   "cell_type": "markdown",
   "id": "2e07a03c",
   "metadata": {},
   "source": [
    "Exercise 6.2: Histogram"
   ]
  },
  {
   "cell_type": "code",
   "execution_count": 148,
   "id": "d25cdcf5",
   "metadata": {},
   "outputs": [
    {
     "name": "stdout",
     "output_type": "stream",
     "text": [
      "{'a': 0, 'b': 1, 'c': 2}\n"
     ]
    }
   ],
   "source": [
    "def list_to_dic(my_list):\n",
    "    new_dic = {}\n",
    "    for i in range(0,len(my_list)):\n",
    "        new_dic[my_list[i]] = i\n",
    "    return new_dic\n",
    "y = [\"a\", \"b\", \"c\"]\n",
    "print(list_to_dic(y))"
   ]
  },
  {
   "cell_type": "markdown",
   "id": "2b1a3364",
   "metadata": {},
   "source": [
    "Exercise 6.3: Get method"
   ]
  },
  {
   "cell_type": "code",
   "execution_count": 159,
   "id": "19370e07",
   "metadata": {},
   "outputs": [
    {
     "name": "stdout",
     "output_type": "stream",
     "text": [
      "20\n"
     ]
    }
   ],
   "source": [
    "def list_to_dic(my_list):\n",
    "    new_dic = {}\n",
    "    for i in range(0,len(my_list)):\n",
    "        new_dic[my_list[i]] = i\n",
    "    return new_dic\n",
    "y = [\"a\", \"b\", \"c\"]\n",
    "w = list_to_dic(y)\n",
    "print(w.get(\"f\",20))"
   ]
  },
  {
   "cell_type": "markdown",
   "id": "ab30b9ed",
   "metadata": {},
   "source": [
    "Exercise 6.4: Random text generator"
   ]
  },
  {
   "cell_type": "code",
   "execution_count": null,
   "id": "dc71dfa5",
   "metadata": {},
   "outputs": [],
   "source": []
  },
  {
   "cell_type": "markdown",
   "id": "c6b5228f",
   "metadata": {},
   "source": [
    "Exercise 6.5: Vector functions"
   ]
  },
  {
   "cell_type": "code",
   "execution_count": 160,
   "id": "ca6892cb",
   "metadata": {},
   "outputs": [
    {
     "name": "stdout",
     "output_type": "stream",
     "text": [
      "[4, 7, 19]\n"
     ]
    }
   ],
   "source": [
    "#a\n",
    "def adds_two_vectors(vector_1, vector_2):\n",
    "    result_vector = []\n",
    "    for i in range(0, len(vector_1)):\n",
    "        result_vector.append(vector_1[i] + vector_2[i])\n",
    "    return result_vector\n",
    "vector1= [1,3,6]\n",
    "vector2= [3,4,13]\n",
    "print(adds_two_vectors(vector1,vector2))\n"
   ]
  },
  {
   "cell_type": "code",
   "execution_count": 162,
   "id": "f1290501",
   "metadata": {},
   "outputs": [
    {
     "name": "stdout",
     "output_type": "stream",
     "text": [
      "93\n"
     ]
    }
   ],
   "source": [
    "# b\n",
    "import numpy as np\n",
    "\n",
    "\n",
    "def adds_two_vectors(vector_1, vector_2):\n",
    "    result_vector = []\n",
    "    result_vector = np.dot(vector_1, vector_2)\n",
    "    return result_vector\n",
    "\n",
    "vector1 = [1, 3, 6]\n",
    "vector2 = [3, 4, 13]\n",
    "print(adds_two_vectors(vector1, vector2))\n"
   ]
  },
  {
   "cell_type": "code",
   "execution_count": null,
   "id": "2372b3d6",
   "metadata": {},
   "outputs": [],
   "source": [
    "# c\n",
    "import numpy as np\n",
    "import scipy.sparse as sps\n",
    "from pyspark.mllib.linalg import Vectors\n",
    "\n",
    "def adds_two_sparse_vectors(vector_1, vector_2):\n",
    "    result_vector = vector_1.tocsr() + vector_2.tocsr()\n",
    "    return result_vector.tolil()\n",
    "\n",
    "vector1 = sps.csc_matrix((np.array([1.0, 3.0]), np.array([0, 2]), np.array([0, 2])), shape = (3, 1))\n",
    "vector2 =sps.csc_matrix((np.array([1.0, 3.0]), np.array([0, 2]), np.array([0, 2])), shape = (3, 1))\n",
    "print(adds_two_sparse_vectors(vector1, vector2))\n"
   ]
  },
  {
   "cell_type": "markdown",
   "metadata": {},
   "source": [
    "Exercise 6.6: Reverse look-up"
   ]
  },
  {
   "cell_type": "code",
   "execution_count": 2,
   "id": "d2a33bec",
   "metadata": {},
   "outputs": [
    {
     "data": {
      "text/plain": [
       "'x'"
      ]
     },
     "execution_count": 2,
     "metadata": {},
     "output_type": "execute_result"
    }
   ],
   "source": [
    "def key_by_value(my_dic, val):\n",
    "    ivd = {v: k for k, v in my_dic.items()}\n",
    "    return ivd[val]\n",
    "\n",
    "key_by_value({\"a\": 2, \"x\": 3}, 3)\n"
   ]
  }
 ],
 "metadata": {
  "kernelspec": {
   "display_name": "Python 3 (ipykernel)",
   "language": "python",
   "name": "python3"
  },
  "language_info": {
   "codemirror_mode": {
    "name": "ipython",
    "version": 3
   },
   "file_extension": ".py",
   "mimetype": "text/x-python",
   "name": "python",
   "nbconvert_exporter": "python",
   "pygments_lexer": "ipython3",
   "version": "3.10.1"
  }
 },
 "nbformat": 4,
 "nbformat_minor": 5
}
