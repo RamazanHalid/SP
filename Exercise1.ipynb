{
 "cells": [
  {
   "cell_type": "markdown",
   "id": "d1d21e14",
   "metadata": {},
   "source": [
    "Ramazan Halid\n",
    "20160807009"
   ]
  },
  {
   "cell_type": "markdown",
   "id": "0eb22261",
   "metadata": {},
   "source": [
    "1. Basics"
   ]
  },
  {
   "cell_type": "markdown",
   "id": "9da16421",
   "metadata": {},
   "source": [
    "Exercise 1.1: The interpreter"
   ]
  },
  {
   "cell_type": "code",
   "execution_count": 30,
   "id": "c3ba2bda",
   "metadata": {},
   "outputs": [
    {
     "data": {
      "text/plain": [
       "4"
      ]
     },
     "execution_count": 30,
     "metadata": {},
     "output_type": "execute_result"
    }
   ],
   "source": [
    "#a\n",
    "3 + 1"
   ]
  },
  {
   "cell_type": "code",
   "execution_count": 31,
   "id": "0d762b00",
   "metadata": {},
   "outputs": [
    {
     "data": {
      "text/plain": [
       "12"
      ]
     },
     "execution_count": 31,
     "metadata": {},
     "output_type": "execute_result"
    }
   ],
   "source": [
    "#b\n",
    "4 * 3"
   ]
  },
  {
   "cell_type": "code",
   "execution_count": 32,
   "id": "fa096ee9",
   "metadata": {},
   "outputs": [
    {
     "data": {
      "text/plain": [
       "8"
      ]
     },
     "execution_count": 32,
     "metadata": {},
     "output_type": "execute_result"
    }
   ],
   "source": [
    "#c\n",
    "2 ** 3"
   ]
  },
  {
   "cell_type": "code",
   "execution_count": 33,
   "id": "a8617925",
   "metadata": {},
   "outputs": [
    {
     "data": {
      "text/plain": [
       "'Hello, World!'"
      ]
     },
     "execution_count": 33,
     "metadata": {},
     "output_type": "execute_result"
    }
   ],
   "source": [
    "#d\n",
    "\"Hello, World!\""
   ]
  },
  {
   "cell_type": "markdown",
   "id": "9f6cc946",
   "metadata": {},
   "source": [
    "Exercise 1.2: Scripts"
   ]
  },
  {
   "cell_type": "code",
   "execution_count": 34,
   "id": "7789aff1",
   "metadata": {},
   "outputs": [
    {
     "name": "stdout",
     "output_type": "stream",
     "text": [
      "4\n",
      "12\n",
      "8\n",
      "Hello, World!\n"
     ]
    }
   ],
   "source": [
    "print(3 + 1)\n",
    "print(4 * 3)\n",
    "print(2 ** 3)\n",
    "print(\"Hello, World!\")"
   ]
  },
  {
   "cell_type": "markdown",
   "id": "7c8c7a10",
   "metadata": {},
   "source": [
    "Exercise 1.3: More interpreter"
   ]
  },
  {
   "cell_type": "code",
   "execution_count": 35,
   "id": "f79e4f49",
   "metadata": {},
   "outputs": [
    {
     "data": {
      "text/plain": [
       "'python'"
      ]
     },
     "execution_count": 35,
     "metadata": {},
     "output_type": "execute_result"
    }
   ],
   "source": [
    "#a\n",
    "\"py\" + \"thon\""
   ]
  },
  {
   "cell_type": "code",
   "execution_count": 36,
   "id": "a8354c60",
   "metadata": {},
   "outputs": [
    {
     "data": {
      "text/plain": [
       "'pypypython'"
      ]
     },
     "execution_count": 36,
     "metadata": {},
     "output_type": "execute_result"
    }
   ],
   "source": [
    "#b\n",
    "\"py\" * 3 + \"thon\""
   ]
  },
  {
   "cell_type": "code",
   "execution_count": 37,
   "id": "82ea502a",
   "metadata": {},
   "outputs": [
    {
     "ename": "TypeError",
     "evalue": "unsupported operand type(s) for -: 'str' and 'str'",
     "output_type": "error",
     "traceback": [
      "\u001b[1;31m---------------------------------------------------------------------------\u001b[0m",
      "\u001b[1;31mTypeError\u001b[0m                                 Traceback (most recent call last)",
      "Input \u001b[1;32mIn [37]\u001b[0m, in \u001b[0;36m<cell line: 2>\u001b[1;34m()\u001b[0m\n\u001b[0;32m      1\u001b[0m \u001b[38;5;66;03m#c\u001b[39;00m\n\u001b[1;32m----> 2\u001b[0m \u001b[38;5;124;43m\"\u001b[39;49m\u001b[38;5;124;43mpy\u001b[39;49m\u001b[38;5;124;43m\"\u001b[39;49m\u001b[43m \u001b[49m\u001b[38;5;241;43m-\u001b[39;49m\u001b[43m \u001b[49m\u001b[38;5;124;43m\"\u001b[39;49m\u001b[38;5;124;43mpy\u001b[39;49m\u001b[38;5;124;43m\"\u001b[39;49m\n",
      "\u001b[1;31mTypeError\u001b[0m: unsupported operand type(s) for -: 'str' and 'str'"
     ]
    }
   ],
   "source": [
    "#c\n",
    "\"py\" - \"py\""
   ]
  },
  {
   "cell_type": "code",
   "execution_count": 3,
   "id": "8896bfed",
   "metadata": {},
   "outputs": [
    {
     "ename": "TypeError",
     "evalue": "can only concatenate str (not \"int\") to str",
     "output_type": "error",
     "traceback": [
      "\u001b[1;31m---------------------------------------------------------------------------\u001b[0m",
      "\u001b[1;31mTypeError\u001b[0m                                 Traceback (most recent call last)",
      "Input \u001b[1;32mIn [3]\u001b[0m, in \u001b[0;36m<cell line: 2>\u001b[1;34m()\u001b[0m\n\u001b[0;32m      1\u001b[0m \u001b[38;5;66;03m#d\u001b[39;00m\n\u001b[1;32m----> 2\u001b[0m \u001b[38;5;124;43m\"\u001b[39;49m\u001b[38;5;124;43m3\u001b[39;49m\u001b[38;5;124;43m\"\u001b[39;49m\u001b[43m \u001b[49m\u001b[38;5;241;43m+\u001b[39;49m\u001b[43m \u001b[49m\u001b[38;5;241;43m3\u001b[39;49m\n",
      "\u001b[1;31mTypeError\u001b[0m: can only concatenate str (not \"int\") to str"
     ]
    }
   ],
   "source": [
    "#d\n",
    "\"3\" + 3"
   ]
  },
  {
   "cell_type": "code",
   "execution_count": 4,
   "id": "766aedca",
   "metadata": {},
   "outputs": [
    {
     "data": {
      "text/plain": [
       "'333'"
      ]
     },
     "execution_count": 4,
     "metadata": {},
     "output_type": "execute_result"
    }
   ],
   "source": [
    "#e\n",
    "3 * \"3\""
   ]
  },
  {
   "cell_type": "code",
   "execution_count": 5,
   "id": "a369dd4f",
   "metadata": {},
   "outputs": [
    {
     "data": {
      "text/plain": [
       "3"
      ]
     },
     "execution_count": 5,
     "metadata": {},
     "output_type": "execute_result"
    }
   ],
   "source": [
    "#f\n",
    "a"
   ]
  },
  {
   "cell_type": "code",
   "execution_count": 6,
   "id": "dfdccb76",
   "metadata": {},
   "outputs": [],
   "source": [
    "#g\n",
    "a = 3"
   ]
  },
  {
   "cell_type": "code",
   "execution_count": 7,
   "id": "13ef05ef",
   "metadata": {},
   "outputs": [
    {
     "data": {
      "text/plain": [
       "3"
      ]
     },
     "execution_count": 7,
     "metadata": {},
     "output_type": "execute_result"
    }
   ],
   "source": [
    "#h\n",
    "a"
   ]
  },
  {
   "cell_type": "markdown",
   "id": "1d57e4c9",
   "metadata": {},
   "source": [
    "Exercise 1.4: Booleans"
   ]
  },
  {
   "cell_type": "code",
   "execution_count": 8,
   "id": "4eb5a91a",
   "metadata": {},
   "outputs": [
    {
     "data": {
      "text/plain": [
       "True"
      ]
     },
     "execution_count": 8,
     "metadata": {},
     "output_type": "execute_result"
    }
   ],
   "source": [
    "#a\n",
    "1 == 1"
   ]
  },
  {
   "cell_type": "code",
   "execution_count": 9,
   "id": "5b4c12e0",
   "metadata": {},
   "outputs": [
    {
     "data": {
      "text/plain": [
       "True"
      ]
     },
     "execution_count": 9,
     "metadata": {},
     "output_type": "execute_result"
    }
   ],
   "source": [
    "#b\n",
    "1 == True"
   ]
  },
  {
   "cell_type": "code",
   "execution_count": 10,
   "id": "6dfdd8b0",
   "metadata": {},
   "outputs": [
    {
     "data": {
      "text/plain": [
       "False"
      ]
     },
     "execution_count": 10,
     "metadata": {},
     "output_type": "execute_result"
    }
   ],
   "source": [
    "#c\n",
    "0 == True"
   ]
  },
  {
   "cell_type": "code",
   "execution_count": 11,
   "id": "098610c6",
   "metadata": {},
   "outputs": [
    {
     "data": {
      "text/plain": [
       "True"
      ]
     },
     "execution_count": 11,
     "metadata": {},
     "output_type": "execute_result"
    }
   ],
   "source": [
    "#d\n",
    "0 == False"
   ]
  },
  {
   "cell_type": "code",
   "execution_count": 12,
   "id": "4e239d41",
   "metadata": {},
   "outputs": [
    {
     "data": {
      "text/plain": [
       "True"
      ]
     },
     "execution_count": 12,
     "metadata": {},
     "output_type": "execute_result"
    }
   ],
   "source": [
    "#e\n",
    "3 == 1 * 3"
   ]
  },
  {
   "cell_type": "code",
   "execution_count": 13,
   "id": "4fa324d8",
   "metadata": {},
   "outputs": [
    {
     "data": {
      "text/plain": [
       "0"
      ]
     },
     "execution_count": 13,
     "metadata": {},
     "output_type": "execute_result"
    }
   ],
   "source": [
    "#f\n",
    "(3 == 1) * 3"
   ]
  },
  {
   "cell_type": "code",
   "execution_count": 47,
   "id": "eb3efd96",
   "metadata": {},
   "outputs": [
    {
     "data": {
      "text/plain": [
       "False"
      ]
     },
     "execution_count": 47,
     "metadata": {},
     "output_type": "execute_result"
    }
   ],
   "source": [
    "#g\n",
    "(3 == 3) * 4 + 3 == 1"
   ]
  },
  {
   "cell_type": "code",
   "execution_count": 48,
   "id": "e16dd185",
   "metadata": {},
   "outputs": [
    {
     "data": {
      "text/plain": [
       "False"
      ]
     },
     "execution_count": 48,
     "metadata": {},
     "output_type": "execute_result"
    }
   ],
   "source": [
    "#h\n",
    "3**5 >= 4**4"
   ]
  },
  {
   "cell_type": "markdown",
   "id": "2d7905ea",
   "metadata": {},
   "source": [
    "Exercise 1.5: Integers"
   ]
  },
  {
   "cell_type": "code",
   "execution_count": 49,
   "id": "991fec14",
   "metadata": {},
   "outputs": [
    {
     "data": {
      "text/plain": [
       "1.6666666666666667"
      ]
     },
     "execution_count": 49,
     "metadata": {},
     "output_type": "execute_result"
    }
   ],
   "source": [
    "#a\n",
    "5 / 3"
   ]
  },
  {
   "cell_type": "code",
   "execution_count": 50,
   "id": "e8b72a8a",
   "metadata": {},
   "outputs": [
    {
     "data": {
      "text/plain": [
       "2"
      ]
     },
     "execution_count": 50,
     "metadata": {},
     "output_type": "execute_result"
    }
   ],
   "source": [
    "#b\n",
    "5 % 3"
   ]
  },
  {
   "cell_type": "code",
   "execution_count": 51,
   "id": "d184134b",
   "metadata": {},
   "outputs": [
    {
     "data": {
      "text/plain": [
       "1.6666666666666667"
      ]
     },
     "execution_count": 51,
     "metadata": {},
     "output_type": "execute_result"
    }
   ],
   "source": [
    "#c\n",
    "5.0 / 3"
   ]
  },
  {
   "cell_type": "code",
   "execution_count": 52,
   "id": "a9488e13",
   "metadata": {},
   "outputs": [
    {
     "data": {
      "text/plain": [
       "1.6666666666666667"
      ]
     },
     "execution_count": 52,
     "metadata": {},
     "output_type": "execute_result"
    }
   ],
   "source": [
    "#d\n",
    "5 / 3.0\n"
   ]
  },
  {
   "cell_type": "code",
   "execution_count": 53,
   "id": "6fdcb5fe",
   "metadata": {},
   "outputs": [
    {
     "data": {
      "text/plain": [
       "2.2"
      ]
     },
     "execution_count": 53,
     "metadata": {},
     "output_type": "execute_result"
    }
   ],
   "source": [
    "#e\n",
    "5.2 % 3"
   ]
  },
  {
   "cell_type": "code",
   "execution_count": 54,
   "id": "b47bfd2d",
   "metadata": {},
   "outputs": [
    {
     "data": {
      "text/plain": [
       "1775896810483121914350934797871501063452843428843794422323202530887281536545210629921129898113201749875234297340507804201761453596034016264189501186924066128377025843892373608427790859511135990682732202975330824797118808624727351608183194154557208730494440110429635650057431833674286462463508755276302896154336475782768613964332764108132533925570342220340698973761380541294970139762186212823359128790706292900765512137078550033912252338262922477518858757114840012576514724742388124595061301502222934806074032688691170880996881967426442947828261057852871032366879179996122216385870273020506079240103910728766397733398071775041745854959302025036249707279600400001"
      ]
     },
     "execution_count": 54,
     "metadata": {},
     "output_type": "execute_result"
    }
   ],
   "source": [
    "#f\n",
    "2001 ** 200"
   ]
  },
  {
   "cell_type": "markdown",
   "id": "fa93653a",
   "metadata": {},
   "source": [
    "Exercise 1.6: Floats"
   ]
  },
  {
   "cell_type": "code",
   "execution_count": 55,
   "id": "384606b8",
   "metadata": {},
   "outputs": [
    {
     "data": {
      "text/plain": [
       "1.4122798353482325e+26"
      ]
     },
     "execution_count": 55,
     "metadata": {},
     "output_type": "execute_result"
    }
   ],
   "source": [
    "20.3 ** 20"
   ]
  },
  {
   "cell_type": "code",
   "execution_count": 56,
   "id": "f4b8772e",
   "metadata": {},
   "outputs": [
    {
     "data": {
      "text/plain": [
       "1.0"
      ]
     },
     "execution_count": 56,
     "metadata": {},
     "output_type": "execute_result"
    }
   ],
   "source": [
    "1.0 + 1.0 - 1.0"
   ]
  },
  {
   "cell_type": "code",
   "execution_count": 57,
   "id": "a46cdec7",
   "metadata": {},
   "outputs": [
    {
     "data": {
      "text/plain": [
       "0.0"
      ]
     },
     "execution_count": 57,
     "metadata": {},
     "output_type": "execute_result"
    }
   ],
   "source": [
    "1.0 + 1.0e20 - 1.0e20\n"
   ]
  },
  {
   "cell_type": "markdown",
   "id": "c92f6260",
   "metadata": {},
   "source": [
    "Exercise 1.7: Variables"
   ]
  },
  {
   "cell_type": "code",
   "execution_count": 58,
   "id": "512b3f21",
   "metadata": {},
   "outputs": [
    {
     "data": {
      "text/plain": [
       "'Hello Ramazan Halid'"
      ]
     },
     "execution_count": 58,
     "metadata": {},
     "output_type": "execute_result"
    }
   ],
   "source": [
    "myName = \"Ramazan Halid\"\n",
    "newString = \"Hello \" + myName\n",
    "newString"
   ]
  },
  {
   "cell_type": "markdown",
   "id": "26c25480",
   "metadata": {},
   "source": [
    "Exercise 1.8: Type casting"
   ]
  },
  {
   "cell_type": "code",
   "execution_count": 59,
   "id": "a7804943",
   "metadata": {},
   "outputs": [
    {
     "data": {
      "text/plain": [
       "123.0"
      ]
     },
     "execution_count": 59,
     "metadata": {},
     "output_type": "execute_result"
    }
   ],
   "source": [
    "#a\n",
    "float(123)"
   ]
  },
  {
   "cell_type": "code",
   "execution_count": 60,
   "id": "6c010e4b",
   "metadata": {},
   "outputs": [
    {
     "data": {
      "text/plain": [
       "123.0"
      ]
     },
     "execution_count": 60,
     "metadata": {},
     "output_type": "execute_result"
    }
   ],
   "source": [
    "#b\n",
    "float(\"123\")"
   ]
  },
  {
   "cell_type": "code",
   "execution_count": 61,
   "id": "3af987f5",
   "metadata": {},
   "outputs": [
    {
     "data": {
      "text/plain": [
       "123.23"
      ]
     },
     "execution_count": 61,
     "metadata": {},
     "output_type": "execute_result"
    }
   ],
   "source": [
    "#c\n",
    "float(\"123.23\")"
   ]
  },
  {
   "cell_type": "code",
   "execution_count": 62,
   "id": "01ff9696",
   "metadata": {},
   "outputs": [
    {
     "data": {
      "text/plain": [
       "123"
      ]
     },
     "execution_count": 62,
     "metadata": {},
     "output_type": "execute_result"
    }
   ],
   "source": [
    "#d      \n",
    "int(123.23)"
   ]
  },
  {
   "cell_type": "code",
   "execution_count": 14,
   "id": "bd1479d4",
   "metadata": {},
   "outputs": [
    {
     "ename": "ValueError",
     "evalue": "invalid literal for int() with base 10: '123.23'",
     "output_type": "error",
     "traceback": [
      "\u001b[1;31m---------------------------------------------------------------------------\u001b[0m",
      "\u001b[1;31mValueError\u001b[0m                                Traceback (most recent call last)",
      "Input \u001b[1;32mIn [14]\u001b[0m, in \u001b[0;36m<cell line: 2>\u001b[1;34m()\u001b[0m\n\u001b[0;32m      1\u001b[0m \u001b[38;5;66;03m#e\u001b[39;00m\n\u001b[1;32m----> 2\u001b[0m \u001b[38;5;28;43mint\u001b[39;49m\u001b[43m(\u001b[49m\u001b[38;5;124;43m\"\u001b[39;49m\u001b[38;5;124;43m123.23\u001b[39;49m\u001b[38;5;124;43m\"\u001b[39;49m\u001b[43m)\u001b[49m\n",
      "\u001b[1;31mValueError\u001b[0m: invalid literal for int() with base 10: '123.23'"
     ]
    }
   ],
   "source": [
    "#e\n",
    "int(\"123.23\")"
   ]
  },
  {
   "cell_type": "code",
   "execution_count": 15,
   "id": "ba374d6e",
   "metadata": {},
   "outputs": [
    {
     "data": {
      "text/plain": [
       "123"
      ]
     },
     "execution_count": 15,
     "metadata": {},
     "output_type": "execute_result"
    }
   ],
   "source": [
    "#f\n",
    "int(float(\"123.23\"))"
   ]
  },
  {
   "cell_type": "code",
   "execution_count": 16,
   "id": "de688ac0",
   "metadata": {},
   "outputs": [
    {
     "data": {
      "text/plain": [
       "'12'"
      ]
     },
     "execution_count": 16,
     "metadata": {},
     "output_type": "execute_result"
    }
   ],
   "source": [
    "#g\n",
    "str(12)"
   ]
  },
  {
   "cell_type": "code",
   "execution_count": 17,
   "id": "8666da2b",
   "metadata": {},
   "outputs": [
    {
     "data": {
      "text/plain": [
       "'12.2'"
      ]
     },
     "execution_count": 17,
     "metadata": {},
     "output_type": "execute_result"
    }
   ],
   "source": [
    "#h\n",
    "str(12.2)"
   ]
  },
  {
   "cell_type": "code",
   "execution_count": 18,
   "id": "947a417e",
   "metadata": {},
   "outputs": [
    {
     "data": {
      "text/plain": [
       "True"
      ]
     },
     "execution_count": 18,
     "metadata": {},
     "output_type": "execute_result"
    }
   ],
   "source": [
    "#i\n",
    "bool(\"a\")"
   ]
  },
  {
   "cell_type": "code",
   "execution_count": 19,
   "id": "bf40d0c1",
   "metadata": {},
   "outputs": [
    {
     "data": {
      "text/plain": [
       "False"
      ]
     },
     "execution_count": 19,
     "metadata": {},
     "output_type": "execute_result"
    }
   ],
   "source": [
    "#j\n",
    "bool(0)"
   ]
  },
  {
   "cell_type": "code",
   "execution_count": 20,
   "id": "8e6fc252",
   "metadata": {},
   "outputs": [
    {
     "data": {
      "text/plain": [
       "True"
      ]
     },
     "execution_count": 20,
     "metadata": {},
     "output_type": "execute_result"
    }
   ],
   "source": [
    "#k\n",
    "bool(0.1)"
   ]
  },
  {
   "cell_type": "markdown",
   "id": "86ea2b77",
   "metadata": {},
   "source": [
    "2. Control flow"
   ]
  },
  {
   "cell_type": "markdown",
   "id": "771a1e7d",
   "metadata": {},
   "source": [
    "Exercise 2.1: Range"
   ]
  },
  {
   "cell_type": "code",
   "execution_count": 21,
   "id": "8a55f13c",
   "metadata": {},
   "outputs": [
    {
     "data": {
      "text/plain": [
       "range"
      ]
     },
     "execution_count": 21,
     "metadata": {},
     "output_type": "execute_result"
    }
   ],
   "source": [
    "range(5)\n",
    "#i is the ever number of range of 0 to 5\n",
    "type(range(5))"
   ]
  },
  {
   "cell_type": "markdown",
   "id": "a58c1f54",
   "metadata": {},
   "source": [
    "Exercise 2.2: For loops"
   ]
  },
  {
   "cell_type": "code",
   "execution_count": 22,
   "id": "ffd1ffa4",
   "metadata": {},
   "outputs": [
    {
     "name": "stdout",
     "output_type": "stream",
     "text": [
      "0\n",
      "1\n",
      "2\n",
      "3\n",
      "4\n",
      "5\n",
      "6\n",
      "7\n",
      "8\n",
      "9\n",
      "10\n",
      "11\n",
      "12\n",
      "13\n",
      "14\n",
      "15\n",
      "16\n",
      "17\n",
      "18\n",
      "19\n",
      "20\n",
      "21\n",
      "22\n",
      "23\n",
      "24\n",
      "25\n",
      "26\n",
      "27\n",
      "28\n",
      "29\n",
      "30\n",
      "31\n",
      "32\n",
      "33\n",
      "34\n",
      "35\n",
      "36\n",
      "37\n",
      "38\n",
      "39\n",
      "40\n",
      "41\n",
      "42\n",
      "43\n",
      "44\n",
      "45\n",
      "46\n",
      "47\n",
      "48\n",
      "49\n",
      "50\n",
      "51\n",
      "52\n",
      "53\n",
      "54\n",
      "55\n",
      "56\n",
      "57\n",
      "58\n",
      "59\n",
      "60\n",
      "61\n",
      "62\n",
      "63\n",
      "64\n",
      "65\n",
      "66\n",
      "67\n",
      "68\n",
      "69\n",
      "70\n",
      "71\n",
      "72\n",
      "73\n",
      "74\n",
      "75\n",
      "76\n",
      "77\n",
      "78\n",
      "79\n",
      "80\n",
      "81\n",
      "82\n",
      "83\n",
      "84\n",
      "85\n",
      "86\n",
      "87\n",
      "88\n",
      "89\n",
      "90\n",
      "91\n",
      "92\n",
      "93\n",
      "94\n",
      "95\n",
      "96\n",
      "97\n",
      "98\n",
      "99\n",
      "100\n"
     ]
    }
   ],
   "source": [
    "#a\n",
    "for i in range(101):\n",
    "    print(i)"
   ]
  },
  {
   "cell_type": "code",
   "execution_count": 23,
   "id": "04292d9e",
   "metadata": {},
   "outputs": [
    {
     "name": "stdout",
     "output_type": "stream",
     "text": [
      "0\n",
      "7\n",
      "14\n",
      "21\n",
      "28\n",
      "35\n",
      "42\n",
      "49\n",
      "56\n",
      "63\n",
      "70\n",
      "77\n",
      "84\n",
      "91\n",
      "98\n"
     ]
    }
   ],
   "source": [
    "#b\n",
    "for i in range(101):\n",
    "    if(i%7==0):\n",
    "        print(i)"
   ]
  },
  {
   "cell_type": "code",
   "execution_count": 24,
   "id": "32d0c6cb",
   "metadata": {},
   "outputs": [
    {
     "name": "stdout",
     "output_type": "stream",
     "text": [
      "5\n",
      "10\n",
      "20\n",
      "25\n",
      "35\n",
      "40\n",
      "50\n",
      "55\n",
      "65\n",
      "70\n",
      "80\n",
      "85\n",
      "95\n",
      "100\n"
     ]
    }
   ],
   "source": [
    "#c\n",
    "for i in range(1,101):\n",
    "    if(i%5 == 0):\n",
    "        if(i%3 != 0):\n",
    "            print(i)"
   ]
  },
  {
   "cell_type": "code",
   "execution_count": 25,
   "id": "5927645d",
   "metadata": {},
   "outputs": [],
   "source": [
    "#d\n",
    "x = 19\n",
    "for i in range(2,x): \n",
    "    if(x%i == 0):\n",
    "        print(i)"
   ]
  },
  {
   "cell_type": "markdown",
   "id": "f53fd6b3",
   "metadata": {},
   "source": [
    "Exercise 2.3: Simple while loops"
   ]
  },
  {
   "cell_type": "code",
   "execution_count": 26,
   "id": "b1a0f31d",
   "metadata": {},
   "outputs": [
    {
     "name": "stdout",
     "output_type": "stream",
     "text": [
      "0\n",
      "1\n",
      "2\n",
      "3\n",
      "4\n",
      "5\n",
      "6\n",
      "7\n",
      "8\n",
      "9\n",
      "10\n",
      "11\n",
      "12\n",
      "13\n",
      "14\n",
      "15\n",
      "16\n",
      "17\n",
      "18\n",
      "19\n",
      "20\n",
      "21\n",
      "22\n",
      "23\n",
      "24\n",
      "25\n",
      "26\n",
      "27\n",
      "28\n",
      "29\n",
      "30\n",
      "31\n",
      "32\n",
      "33\n",
      "34\n",
      "35\n",
      "36\n",
      "37\n",
      "38\n",
      "39\n",
      "40\n",
      "41\n",
      "42\n",
      "43\n",
      "44\n",
      "45\n",
      "46\n",
      "47\n",
      "48\n",
      "49\n",
      "50\n",
      "51\n",
      "52\n",
      "53\n",
      "54\n",
      "55\n",
      "56\n",
      "57\n",
      "58\n",
      "59\n",
      "60\n",
      "61\n",
      "62\n",
      "63\n",
      "64\n",
      "65\n",
      "66\n",
      "67\n",
      "68\n",
      "69\n",
      "70\n",
      "71\n",
      "72\n",
      "73\n",
      "74\n",
      "75\n",
      "76\n",
      "77\n",
      "78\n",
      "79\n",
      "80\n",
      "81\n",
      "82\n",
      "83\n",
      "84\n",
      "85\n",
      "86\n",
      "87\n",
      "88\n",
      "89\n",
      "90\n",
      "91\n",
      "92\n",
      "93\n",
      "94\n",
      "95\n",
      "96\n",
      "97\n",
      "98\n",
      "99\n",
      "100\n"
     ]
    }
   ],
   "source": [
    "#a\n",
    "i = 0\n",
    "while i <101:\n",
    "    print(i)\n",
    "    i = i + 1\n",
    "  "
   ]
  },
  {
   "cell_type": "code",
   "execution_count": 76,
   "id": "eec25020",
   "metadata": {},
   "outputs": [
    {
     "name": "stdout",
     "output_type": "stream",
     "text": [
      "0\n",
      "7\n",
      "14\n",
      "21\n",
      "28\n",
      "35\n",
      "42\n",
      "49\n",
      "56\n",
      "63\n",
      "70\n",
      "77\n",
      "84\n",
      "91\n",
      "98\n"
     ]
    }
   ],
   "source": [
    "#b\n",
    "i = 0\n",
    "while i <101:\n",
    "    if(i%7 == 0):\n",
    "        print(i)\n",
    "    i = i + 1"
   ]
  },
  {
   "cell_type": "markdown",
   "id": "87455e8b",
   "metadata": {},
   "source": [
    "Exercise 2.4: Hangman update 1\n"
   ]
  },
  {
   "cell_type": "markdown",
   "id": "7feb34da",
   "metadata": {},
   "source": [
    "Exercise 2.5: While loops"
   ]
  },
  {
   "cell_type": "code",
   "execution_count": 77,
   "id": "bdc8e275",
   "metadata": {},
   "outputs": [
    {
     "name": "stdout",
     "output_type": "stream",
     "text": [
      "385\n",
      "770\n",
      "1155\n",
      "1540\n",
      "1925\n",
      "2310\n",
      "2695\n",
      "3080\n",
      "3465\n",
      "3850\n",
      "4235\n",
      "4620\n",
      "5005\n",
      "5390\n",
      "5775\n",
      "6160\n",
      "6545\n",
      "6930\n",
      "7315\n",
      "7700\n"
     ]
    }
   ],
   "source": [
    "number_found = 0\n",
    "x = 11\n",
    "while number_found < 20:\n",
    "    if(x%5==0 and x%7==0 and x%11==0):\n",
    "        print(x)\n",
    "        number_found += 1\n",
    "    x += 1 "
   ]
  },
  {
   "cell_type": "markdown",
   "id": "fc82cbec",
   "metadata": {},
   "source": [
    "Exercise 2.6: More while loops"
   ]
  },
  {
   "cell_type": "code",
   "execution_count": 78,
   "id": "fea8766e",
   "metadata": {},
   "outputs": [
    {
     "name": "stdout",
     "output_type": "stream",
     "text": [
      "2520\n"
     ]
    }
   ],
   "source": [
    "import math\n",
    "value = 1\n",
    "for i in range(1, 11):\n",
    "    value = int((value * i)/math.gcd(value, i))\n",
    "print(value)"
   ]
  },
  {
   "cell_type": "code",
   "execution_count": 79,
   "id": "fa37de66",
   "metadata": {},
   "outputs": [
    {
     "name": "stdout",
     "output_type": "stream",
     "text": [
      "100\n",
      "50\n",
      "25\n",
      "76\n",
      "38\n",
      "19\n",
      "58\n",
      "29\n",
      "88\n",
      "44\n",
      "22\n",
      "11\n",
      "34\n",
      "17\n",
      "52\n",
      "26\n",
      "13\n",
      "40\n",
      "20\n",
      "10\n",
      "5\n",
      "16\n",
      "8\n",
      "4\n",
      "2\n",
      "1\n"
     ]
    }
   ],
   "source": [
    " \n",
    "collatz_list=list() #list to store the values of sequence\n",
    "n = 100\n",
    "while (n!=1) :\n",
    "    collatz_list.append(n) \n",
    "    #if n is even\n",
    "    if (n%2==0) :\n",
    "        n=n//2\n",
    "    else:\n",
    "      #if n is odd\n",
    "        n=(3*n)+1\n",
    "collatz_list.append(1)  #print 1 in the end   \n",
    "l=len(collatz_list) \n",
    "for i in range(0,l):\n",
    "  print(collatz_list[i])\n"
   ]
  },
  {
   "cell_type": "markdown",
   "id": "7e2b2807",
   "metadata": {},
   "source": [
    "3. Functions"
   ]
  },
  {
   "cell_type": "markdown",
   "id": "3c72bb39",
   "metadata": {},
   "source": [
    "Exercise 3.1: Hello"
   ]
  },
  {
   "cell_type": "code",
   "execution_count": 80,
   "id": "4f694844",
   "metadata": {},
   "outputs": [
    {
     "name": "stdout",
     "output_type": "stream",
     "text": [
      "Hello, World\n"
     ]
    }
   ],
   "source": [
    "#a\n",
    "def hello_world():\n",
    "    print(\"Hello, World\")\n",
    "hello_world()"
   ]
  },
  {
   "cell_type": "code",
   "execution_count": 81,
   "id": "481d9c2e",
   "metadata": {},
   "outputs": [
    {
     "name": "stdout",
     "output_type": "stream",
     "text": [
      "Hello, Ramazan Halid\n"
     ]
    }
   ],
   "source": [
    "#b\n",
    "def hello_world(name):\n",
    "    print(\"Hello,\", name)\n",
    "hello_world(\"Ramazan Halid\")"
   ]
  },
  {
   "cell_type": "markdown",
   "id": "8393c121",
   "metadata": {},
   "source": [
    "#c\n",
    "\"retrun\" create a value which come from function as a result.\n",
    "\"print\" just show the value"
   ]
  },
  {
   "cell_type": "markdown",
   "id": "f91a5b36",
   "metadata": {},
   "source": [
    "Exercise 3.2: Polynomial"
   ]
  },
  {
   "cell_type": "code",
   "execution_count": 82,
   "id": "05e93db7",
   "metadata": {},
   "outputs": [],
   "source": [
    "def newFunc(x):\n",
    "    return 3*x**2 - x +2"
   ]
  },
  {
   "cell_type": "markdown",
   "id": "9918e9b7",
   "metadata": {},
   "source": [
    "Exercise 3.3: Maximum"
   ]
  },
  {
   "cell_type": "code",
   "execution_count": 83,
   "id": "6baeb088",
   "metadata": {},
   "outputs": [
    {
     "data": {
      "text/plain": [
       "11"
      ]
     },
     "execution_count": 83,
     "metadata": {},
     "output_type": "execute_result"
    }
   ],
   "source": [
    "#a\n",
    "def my_max(x,y):\n",
    "    if(x>y):\n",
    "        return x\n",
    "    else:\n",
    "        return y\n",
    "my_max(10,11)"
   ]
  },
  {
   "cell_type": "code",
   "execution_count": 84,
   "id": "9f0fef23",
   "metadata": {},
   "outputs": [
    {
     "data": {
      "text/plain": [
       "10"
      ]
     },
     "execution_count": 84,
     "metadata": {},
     "output_type": "execute_result"
    }
   ],
   "source": [
    "#b\n",
    "def my_max(x,y):\n",
    "    if(x>y):\n",
    "        return x\n",
    "    return y\n",
    "my_max(10,9)"
   ]
  },
  {
   "cell_type": "markdown",
   "id": "43bb42df",
   "metadata": {},
   "source": [
    "Exercise 3.4: Primes"
   ]
  },
  {
   "cell_type": "code",
   "execution_count": 85,
   "id": "f643385d",
   "metadata": {},
   "outputs": [
    {
     "data": {
      "text/plain": [
       "True"
      ]
     },
     "execution_count": 85,
     "metadata": {},
     "output_type": "execute_result"
    }
   ],
   "source": [
    "#a\n",
    "def is_prime(n):\n",
    "    for i in range(2,n):\n",
    "        if(n%i == 0):\n",
    "            return False\n",
    "    return True\n",
    "is_prime(13)"
   ]
  },
  {
   "cell_type": "code",
   "execution_count": 86,
   "id": "c410f8df",
   "metadata": {},
   "outputs": [
    {
     "data": {
      "text/plain": [
       "True"
      ]
     },
     "execution_count": 86,
     "metadata": {},
     "output_type": "execute_result"
    }
   ],
   "source": [
    "#b\n",
    "def is_prime_new(n):\n",
    "    if(n == 2):\n",
    "        return True\n",
    "    if(n == 3): \n",
    "        return True\n",
    "    if((n+1)%6 != 0 and (n-1)%6 != 0):\n",
    "        return False\n",
    "    return True\n",
    "  \n",
    "is_prime_new(13) "
   ]
  },
  {
   "cell_type": "code",
   "execution_count": 87,
   "id": "c32ca397",
   "metadata": {},
   "outputs": [
    {
     "data": {
      "text/plain": [
       "[2, 3, 5, 7, 11]"
      ]
     },
     "execution_count": 87,
     "metadata": {},
     "output_type": "execute_result"
    }
   ],
   "source": [
    "#c\n",
    "def all_primes(n):\n",
    "    prime_list = []\n",
    "    if n > 2:\n",
    "        prime_list.append(2)\n",
    "    if n > 3:\n",
    "        prime_list.append(3)\n",
    "\n",
    "    for i in range(4,n):\n",
    "        if((i+1)%6 == 0 or (i-1)%6 == 0):\n",
    "            prime_list.append(i)\n",
    "    return prime_list\n",
    "all_primes(13)\n",
    "\n"
   ]
  },
  {
   "cell_type": "code",
   "execution_count": 88,
   "id": "42e5e27c",
   "metadata": {},
   "outputs": [
    {
     "data": {
      "text/plain": [
       "2"
      ]
     },
     "execution_count": 88,
     "metadata": {},
     "output_type": "execute_result"
    }
   ],
   "source": [
    "#d\n",
    "def first_prime(n):\n",
    "    if n > 2:\n",
    "        return 2\n",
    "    if n > 3:\n",
    "        return 3\n",
    "\n",
    "    for i in range(4,n):\n",
    "          if((i+1)%6 == 0 or (i-1)%6 == 0):\n",
    "            return i\n",
    "    return 0\n",
    "first_prime(13)"
   ]
  },
  {
   "cell_type": "markdown",
   "id": "96728de6",
   "metadata": {},
   "source": [
    "Exercise 3.5: Root finding\n"
   ]
  },
  {
   "cell_type": "code",
   "execution_count": 89,
   "id": "48e3e135",
   "metadata": {},
   "outputs": [
    {
     "data": {
      "text/plain": [
       "0.0"
      ]
     },
     "execution_count": 89,
     "metadata": {},
     "output_type": "execute_result"
    }
   ],
   "source": [
    "#a\n",
    "def f(x):\n",
    "    return x\n",
    "def root(f,a,b):\n",
    "    if(a>b):\n",
    "        return\n",
    "    mid_value = (a+b)/2\n",
    "    if(f(mid_value) == 0):\n",
    "        return mid_value\n",
    "    if(f(mid_value) < 0):\n",
    "        return root(f,mid_value,b)\n",
    "    if(f(mid_value) > 0):\n",
    "        return root(f,a,mid_value)\n",
    "\n",
    "root(f,-2,5)\n"
   ]
  },
  {
   "cell_type": "code",
   "execution_count": 90,
   "id": "2b7ef9f4",
   "metadata": {},
   "outputs": [
    {
     "data": {
      "text/plain": [
       "0.0"
      ]
     },
     "execution_count": 90,
     "metadata": {},
     "output_type": "execute_result"
    }
   ],
   "source": [
    "#b\n",
    "def f(x):\n",
    "    return x\n",
    "def root(f,a,b):\n",
    "    mid_value = (a+b)/2\n",
    "    if(f(mid_value) == 0):\n",
    "        return mid_value\n",
    "    if(f(mid_value) < 0):\n",
    "        return root(f,mid_value,b)\n",
    "    if(f(mid_value) > 0):\n",
    "        return root(f,a,mid_value)\n",
    "root(f,-2,5)"
   ]
  },
  {
   "cell_type": "code",
   "execution_count": null,
   "id": "33acd338",
   "metadata": {},
   "outputs": [],
   "source": [
    "#c\n",
    "def f(x):\n",
    "    return x\n",
    "def root(f,a,b):\n",
    "    mid_value = (a+b)/2\n",
    "    if(f(mid_value) == 0):\n",
    "        return mid_value\n",
    "    if(f(mid_value) < 0):\n",
    "        return root(f,mid_value,b)\n",
    "    if(f(mid_value) > 0):\n",
    "        return root(f,a,mid_value)\n",
    "    print(\"function evals have same sign\")\n",
    "root(f,3,5)"
   ]
  }
 ],
 "metadata": {
  "kernelspec": {
   "display_name": "Python 3 (ipykernel)",
   "language": "python",
   "name": "python3"
  },
  "language_info": {
   "codemirror_mode": {
    "name": "ipython",
    "version": 3
   },
   "file_extension": ".py",
   "mimetype": "text/x-python",
   "name": "python",
   "nbconvert_exporter": "python",
   "pygments_lexer": "ipython3",
   "version": "3.10.1"
  }
 },
 "nbformat": 4,
 "nbformat_minor": 5
}
