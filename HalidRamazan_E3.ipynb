{
  "nbformat": 4,
  "nbformat_minor": 0,
  "metadata": {
    "colab": {
      "name": "HalidRamazan_E3.ipynb",
      "provenance": [],
      "collapsed_sections": []
    },
    "kernelspec": {
      "name": "python3",
      "display_name": "Python 3"
    },
    "language_info": {
      "name": "python"
    }
  },
  "cells": [
    {
      "cell_type": "markdown",
      "source": [
        "# Ramazan Halid 20160807009 \n",
        "# Exercise 3"
      ],
      "metadata": {
        "id": "BMsu6O-l7mCz"
      }
    },
    {
      "cell_type": "markdown",
      "source": [
        "#Exercise 7.1: Open a file"
      ],
      "metadata": {
        "id": "DCKXc3PneIhE"
      }
    },
    {
      "cell_type": "code",
      "source": [
        "\n",
        "%cd /content/drive/MyDrive/Scientific_Programming_Python/\n",
        "def openFileWithInput():\n",
        "  inputFileName = input(\"Enter file name please : \")\n",
        "  openFile = open(inputFileName)\n",
        "  for line in openFile:\n",
        "    print(line)\n",
        "  openFile.close()"
      ],
      "metadata": {
        "colab": {
          "base_uri": "https://localhost:8080/"
        },
        "id": "kZ4_4AhZeLMm",
        "outputId": "e7a24a09-c321-4499-aa7a-e074a46168fc"
      },
      "execution_count": null,
      "outputs": [
        {
          "output_type": "stream",
          "name": "stdout",
          "text": [
            "/content/drive/MyDrive/Scientific_Programming_Python\n",
            "Enter file name please : ScientificProgrammingTest.txt\n",
            "A\n",
            "\n",
            "\n",
            "\n",
            "B\n",
            "\n",
            "\n",
            "\n",
            "C\n",
            "\n",
            "\n",
            "\n",
            "Dsdfs sdfsdgsd sdfsd 123123\n"
          ]
        }
      ]
    },
    {
      "cell_type": "markdown",
      "source": [
        "#Exercise 7.2: Wordcount\n"
      ],
      "metadata": {
        "id": "mvHCepJwgdpE"
      }
    },
    {
      "cell_type": "code",
      "source": [
        "def shakespeare_count(file_name):\n",
        "    frequency_dictinary = {}\n",
        "    with open(file_name, 'r') as my_file:\n",
        "        for line in my_file:\n",
        "            for word in line.split():\n",
        "                if word in frequency_dictinary:\n",
        "                    count = frequency_dictinary[word]\n",
        "                    count += 1\n",
        "                    frequency_dictinary = count\n",
        "                else :\n",
        "                    frequency_dictinary[word] = 1\n",
        "    my_file.close()\n",
        "    highest_value = 0\n",
        "    for key, value in frequency_dictinary:\n",
        "        if value >= highest_value:\n",
        "            highest_value = value\n",
        "    twenty_most_common = sorted(frequency_dictinary.keys(), key=lambda x: frequency_dictinary[x])[:20]\n",
        "    return twenty_most_common\n",
        "def unique_words(file_name):\n",
        "    word_set = set()\n",
        "    with open(file_name, 'r') as my_file:\n",
        "        for line in my_file:\n",
        "            for word in line.split():\n",
        "                word_set.add(word)\n",
        "    my_file.close()\n",
        "    print(len(word_set))"
      ],
      "metadata": {
        "id": "wj0RHnaggh0A"
      },
      "execution_count": null,
      "outputs": []
    },
    {
      "cell_type": "markdown",
      "source": [
        "#Exercise 7.3: Random text generator II"
      ],
      "metadata": {
        "id": "3U2ASPaTidDU"
      }
    },
    {
      "cell_type": "code",
      "source": [
        "import random\n",
        "def process_text_file():\n",
        "     \n",
        "    inputFileName = input(\"Please enter file name: \")\n",
        "    openFile = open(inputFileName)\n",
        "    f = \"\"\n",
        "    d = {} \n",
        "    for line in openFile:\n",
        "      f += line\n",
        "    for x in range(0,random.randint(0,466909)):\n",
        "      d = f.readline(x)\n",
        "    return d"
      ],
      "metadata": {
        "id": "OLhK9SjRieVW"
      },
      "execution_count": null,
      "outputs": []
    },
    {
      "cell_type": "markdown",
      "source": [
        "#Exercise 7.4: Sum of lists"
      ],
      "metadata": {
        "id": "FYBIWOprHl92"
      }
    },
    {
      "cell_type": "code",
      "source": [
        "#a\n",
        "import random\n",
        "def generate_data(n, a, b, file_name):\n",
        "    random_list = []\n",
        "    with open(file_name, 'w') as w:\n",
        "        while (n>0):\n",
        "            if (a > b):\n",
        "                rand_number = random.randint(b, a)\n",
        "                random_list.append(rand_number)\n",
        "            elif (b > a): \n",
        "                rand_number = random.randint(a, b)\n",
        "                random_list.append(rand_number)\n",
        "            n = n - 1\n",
        "        w.write(str(random_list))\n",
        "    w.close()"
      ],
      "metadata": {
        "id": "f4fuCoL-HnFG"
      },
      "execution_count": null,
      "outputs": []
    },
    {
      "cell_type": "code",
      "source": [
        "#b\n",
        "def read_data(file_name):\n",
        "    document = []\n",
        "    with open(file_name, 'r') as my_file:\n",
        "        for line in my_file:\n",
        "            line = line.strip('[]')\n",
        "            document = line.split(',')\n",
        "    my_file.close()\n",
        "    return document\n"
      ],
      "metadata": {
        "id": "85Nw1gptH7mj"
      },
      "execution_count": null,
      "outputs": []
    },
    {
      "cell_type": "code",
      "source": [
        "#c\n",
        "def sum_problem(first_file, second_file, k):\n",
        "    first_list = read_data(first_file)\n",
        "    second_list = read_data(second_file)\n",
        "    for first_item in first_list:\n",
        "        for second_item in second_list:\n",
        "            if (int(first_item) + int(second_item) == int(k)):\n",
        "                print(\"u: \",first_item.strip(),\" / v: \", second_item.strip())"
      ],
      "metadata": {
        "id": "dwu2K4HlIHsH"
      },
      "execution_count": null,
      "outputs": []
    },
    {
      "cell_type": "code",
      "source": [
        "#d\n",
        "# Test"
      ],
      "metadata": {
        "id": "C6wFJlsLIcJs"
      },
      "execution_count": null,
      "outputs": []
    },
    {
      "cell_type": "markdown",
      "source": [
        "# Exercise 8.1: Rational numbers\n",
        "\n"
      ],
      "metadata": {
        "id": "2GoLmWm5GcRA"
      }
    },
    {
      "cell_type": "code",
      "execution_count": null,
      "metadata": {
        "colab": {
          "base_uri": "https://localhost:8080/"
        },
        "id": "Bqd63jDKF51K",
        "outputId": "e63d980a-e59f-4fda-b05e-c498ef059280"
      },
      "outputs": [
        {
          "output_type": "stream",
          "name": "stdout",
          "text": [
            "7.0\n",
            "b = 5/2\n"
          ]
        }
      ],
      "source": [
        "#<a>\n",
        "import math\n",
        "class Rational:\n",
        "    def __init__(self, p, q=1):\n",
        "        if q == 0:\n",
        "            raise ValueError('Denominator must not be zero')\n",
        "        if not isinstance(p, int):\n",
        "            raise ValueError('Numerator must be an integer')\n",
        "        if not isinstance(q, int):\n",
        "            raise ValueError('Denominator must be an integer')\n",
        "        \n",
        "        g = math.gcd(p, q)\n",
        "        \n",
        "        self.p = p // g # integer division\n",
        "        self.q = q // g\n",
        "#</a>\n",
        "#<b>    \n",
        "    # method to convert rational to string for printing\n",
        "    def __str__(self):\n",
        "        return f'{self.p}/{self.q}'\n",
        "    \n",
        "    def __repr__(self):\n",
        "        return f'Rational({self.p}, {self.q})'\n",
        "\n",
        "#</b>\n",
        "#<d>\n",
        "    def __add__(self):\n",
        "       return self.p + self.q \n",
        "#</d>\n",
        "#<e>\n",
        "    def __sub__(self):\n",
        "       return self.p - self.q \n",
        "#</e>\n",
        "#<f>\n",
        "    def __mul__(self):\n",
        "       return self.p * self.q \n",
        "#</f>\n",
        "#<g>\n",
        "    def __div__(self):\n",
        "       return self.p / self.q \n",
        "#</g>\n",
        "#<h>\n",
        "    def __eq__(self):\n",
        "       return self.p == self.q \n",
        "#</h>\n",
        "#<i>\n",
        "    def __float__(self):\n",
        "       return float(self.__add__())\n",
        "#</i>\n",
        "#<j>\n",
        "    def __square__(self):\n",
        "       return self.__add__()**2\n",
        "#</j>\n",
        "#<c>\n",
        "\n",
        "b = Rational(5, 2)\n",
        "print(b.__float__())\n",
        "print(f\"b = {b}\")\n",
        "#</c>"
      ]
    },
    {
      "cell_type": "markdown",
      "source": [
        "#Exercise 8.2: Rock Paper Scissors\n",
        "\n",
        "\n"
      ],
      "metadata": {
        "id": "TCS5NXdWqUIQ"
      }
    },
    {
      "cell_type": "code",
      "source": [
        "#game.py\n",
        "class Game:\n",
        "    def __init__(self, agent1, agent2):\n",
        "        self.moves_a1 = []\n",
        "        self.moves_a2 = []\n",
        "        self.nround = 0\n",
        "        self.score_a1 = 0\n",
        "        self.score_a2 = 0\n",
        "\n",
        "        self.agent1 = agent1\n",
        "        self.agent2 = agent2\n",
        "\n",
        "    def round(self):\n",
        "        print ('Round {}: '.format(self.nround+1))\n",
        "        # we pass along history so a player can take that into account when\n",
        "        # deciding the next move\n",
        "        move_a1 = self.agent1.getMove(self.moves_a2, self.moves_a1)\n",
        "        move_a2 = self.agent2.getMove(self.moves_a1, self.moves_a2)\n",
        "\n",
        "        # compare the moves and decide who wins\n",
        "        outcome = self.compare(move_a1, move_a2)\n",
        "\n",
        "        # output outcome of current round\n",
        "        if outcome == 1:\n",
        "            print ('Player 1 wins: {} beats {}'.format(move_a1, move_a2))\n",
        "        elif outcome == 0:\n",
        "            print ('This round is tied, both players played {}'.format(move_a1))\n",
        "        else:\n",
        "            print ('Player 2 wins: {} beats {}'.format(move_a2, move_a1))\n",
        "\n",
        "        # update scores\n",
        "\n",
        "        # YOUR CODE HERE\n",
        "\n",
        "        self.moves_a1.append(move_a1)\n",
        "        self.moves_a2.append(move_a2)\n",
        "\n",
        "    def play(self, nrounds):\n",
        "        for r in range(nrounds):\n",
        "            self.round()\n",
        "            self.nround += 1\n",
        "\n",
        "    def summary(self):\n",
        "        # print some summary of the games\n",
        "        print ('='*20)\n",
        "        if self.score_a1 > self.score_a2:\n",
        "            print ('Player 1 wins')\n",
        "        elif self.score_a1 < self.score_a2:\n",
        "            print ('Player 2 wins')\n",
        "        else:\n",
        "            print ('The game ends in a tie')\n",
        "\n",
        "        print ('Final score: {} - {}'.format(self.score_a1, self.score_a2))\n",
        "\n",
        "        # To implement: find the move that was played most often\n",
        "\n",
        "        # YOUR CODE HERE\n",
        "\n",
        "        print ('Most played move: {}'.format(0))\n",
        "        print ('='*20)\n",
        "\n",
        "    def compare(self, move1, move2):\n",
        "        # returns 1 if move1 wins, 0 if it's a tie, and -1 if move2 wins\n",
        "        # YOUR CODE HERE\n",
        "#<a>\n",
        "        if(move1 == 'r' and move2 == 's'):\n",
        "          return 1\n",
        "        if(move1 == 'r' and move2 == 'p'):\n",
        "          return -1\n",
        "        if(move1 == 's' and move2 == 'r'):\n",
        "          return -1\n",
        "        if(move1 == 's' and move2 == 'p'):\n",
        "          return 1\n",
        "        if(move1 == 'p' and move2 == 'r'):\n",
        "          return 1\n",
        "        if(move1 == 'p' and move2 == 's'):\n",
        "          return -1\n",
        "\n",
        "#</a>\n",
        "        return 0\n",
        "#agent.py\n",
        "import random\n",
        "\n",
        "class Agent:\n",
        "    def getMove(self, moves_other, moves_self):\n",
        "        pass\n",
        "\n",
        "\n",
        "class InstructorAgent(Agent):\n",
        "    def __init__(self):\n",
        "        p_rock = random.random()\n",
        "        p_scissors = random.random()\n",
        "        p_paper = random.random()\n",
        "        p_total = p_rock + p_scissors + p_paper\n",
        "\n",
        "        self.p_rock = p_rock / p_total\n",
        "        self.p_scissors = self.p_rock + p_scissors / p_total\n",
        "\n",
        "    def getMove(self, moves_other, moves_self):\n",
        "        random_move = random.random()\n",
        "        if random_move < self.p_rock:\n",
        "            return 'r'\n",
        "        elif random_move < self.p_scissors:\n",
        "            return 's'\n",
        "        else:\n",
        "            return 'p'\n",
        "\n",
        "\n",
        "class MyAgent(Agent):\n",
        "    def __init__(self):\n",
        "        p_rock = random.random()\n",
        "        p_scissors = random.random()\n",
        "        p_paper = random.random()\n",
        "        p_total = p_rock + p_scissors + p_paper\n",
        "\n",
        "        self.p_rock = p_rock / p_total\n",
        "        self.p_scissors = self.p_rock + p_scissors / p_total\n",
        "\n",
        "    def getMove(self, moves_other, moves_self):\n",
        "        random_move = random.random()\n",
        "        if random_move < self.p_rock:\n",
        "            return 'r'\n",
        "        elif random_move < self.p_scissors:\n",
        "            return 's'\n",
        "        else:\n",
        "            return 'p'\n",
        "\n",
        "\n",
        "class HumanAgent(Agent):\n",
        "    def getMove(self, moves_other, moves_self):\n",
        "#<b>\n",
        "        # YOUR CODE HERE\n",
        "        print (\"For Rock      'r'\")\n",
        "        print (\"For Paper     'p'\")\n",
        "        print (\"For Scissors  's'\")\n",
        "        x = input(\"Enter your move: \")\n",
        "        if (x != 'r' or x!= 's' or x!='p'):\n",
        "          print('Wrong input please select one of following')\n",
        "          print (\"For Rock      'r'\")\n",
        "          print (\"For Paper     'p'\")\n",
        "          print (\"For Scissors  's'\")\n",
        "          x = input(\"Enter your move: \")\n",
        "        else:\n",
        "          return x\n",
        "#</b>\n",
        "#run.py\n",
        "# We can specify which agents we want to play the game here\n",
        "# Optional: pass this in using the command line\n",
        "game = Game(HumanAgent(), InstructorAgent())\n",
        "\n",
        "# How many rounds do we want to play\n",
        "# Optional: pass this in using the command line\n",
        "number_rounds = 10\n",
        "game.play(number_rounds)\n",
        "\n",
        "# Print summary\n",
        "game.summary()\n"
      ],
      "metadata": {
        "id": "K8tvETrIqSVT"
      },
      "execution_count": null,
      "outputs": []
    },
    {
      "cell_type": "markdown",
      "source": [
        "#Exercise 8.3: Hangman agent\n"
      ],
      "metadata": {
        "id": "1eTt-NXba9Q6"
      }
    },
    {
      "cell_type": "code",
      "source": [
        "from random import choice\n",
        "from time import sleep\n",
        "\n",
        "\n",
        "class Hangman:\n",
        "\n",
        "    my_hangman_portre = (\n",
        "        \"\"\"\n",
        "         ------\n",
        "         |    |\n",
        "         |\n",
        "         |\n",
        "         |\n",
        "         |\n",
        "         |\n",
        "         |\n",
        "         |\n",
        "        ----------\n",
        "        \"\"\",\n",
        "        \"\"\"\n",
        "         ------\n",
        "         |    |\n",
        "         |    O\n",
        "         |\n",
        "         |\n",
        "         |\n",
        "         |\n",
        "         |\n",
        "         |\n",
        "        ----------\n",
        "        \"\"\",\n",
        "        \"\"\"\n",
        "         ------\n",
        "         |    |\n",
        "         |    O\n",
        "         |   -+-\n",
        "         | \n",
        "         |   \n",
        "         |   \n",
        "         |   \n",
        "         |   \n",
        "        ----------\n",
        "        \"\"\",\n",
        "        \"\"\"\n",
        "         ------\n",
        "         |    |\n",
        "         |    O\n",
        "         |  /-+-\n",
        "         |   \n",
        "         |   \n",
        "         |   \n",
        "         |   \n",
        "         |   \n",
        "        ----------\n",
        "        \"\"\",\n",
        "        \"\"\"\n",
        "         ------\n",
        "         |    |\n",
        "         |    O\n",
        "         |  /-+-/\n",
        "         |   \n",
        "         |   \n",
        "         |   \n",
        "         |   \n",
        "         |   \n",
        "        ----------\n",
        "        \"\"\",\n",
        "        \"\"\"\n",
        "         ------\n",
        "         |    |\n",
        "         |    O\n",
        "         |  /-+-/\n",
        "         |    |\n",
        "         |   \n",
        "         |   \n",
        "         |   \n",
        "         |   \n",
        "        ----------\n",
        "        \"\"\",\n",
        "        \"\"\"\n",
        "         ------\n",
        "         |    |\n",
        "         |    O\n",
        "         |  /-+-/\n",
        "         |    |\n",
        "         |    |\n",
        "         |   | \n",
        "         |   | \n",
        "         |   \n",
        "        ----------\n",
        "        \"\"\",\n",
        "        \"\"\"\n",
        "         ------\n",
        "         |    |\n",
        "         |    O\n",
        "         |  /-+-/\n",
        "         |    |\n",
        "         |    |\n",
        "         |   | |\n",
        "         |   | |\n",
        "         |  \n",
        "        ----------\n",
        "        \"\"\")\n",
        "\n",
        "    my_words = (\"APPLE\", \"ORACLE\", \"MIMO\", \"TESLA\")\n",
        "    success_messages = (\"Well done!\", \"Awesome!\", \"You Legend!\")\n",
        "\n",
        "    def __init__(self):\n",
        "        self.word = choice(self.my_words)\n",
        "        self.so_far = \"-\" * len(self.word)\n",
        "        self.used = []\n",
        "        self.wrong_answers = 0\n",
        "\n",
        "    def play(self):\n",
        "        self.reset_the_game()\n",
        "        self.start_the_game()\n",
        "\n",
        "\n",
        "        \"\"\"\n",
        "        The total number of wrong responses should not exceed HANGMAN's length. \n",
        "        When displaying current progress, just use length of HANGMAN to guarantee there is no index overflow error.\n",
        "        \"\"\"\n",
        "        while self.wrong_answers < len(self.my_hangman_portre) and self.so_far != self.word:\n",
        "            self.print_current_progress()\n",
        "            guess = self.user_guess()\n",
        "            self.check_answer(guess)\n",
        "\n",
        "        self.print_result()\n",
        "        self.play_again()\n",
        "\n",
        "    def _check_answer(self, guess):\n",
        "      #  Tests if the user's estimate is right. : param guess: the user's guess\n",
        "        if guess in self.word:\n",
        "            print(choice(self.success_messages), \"...Updating word so far...\")\n",
        "\n",
        "            for i in range(len(self.word)):\n",
        "                if guess == self.word[i]:\n",
        "                    #so_far is how so far is spliced:\n",
        "                    # so_far [from the beginning: until the place of the properly predicted letter, but without including it] \n",
        "                    # so_far [from the beginning: until the place of the properly predicted letter, but not including it]\n",
        "                    # + guessed letter\n",
        "                    # + so_far [until the finish] [from the spot adjacent to the properly predicted letter]\n",
        "                    self.so_far = self.so_far[:i] + guess + self.so_far[i+1:]\n",
        "\n",
        "        else:\n",
        "            print(\"INCORRECT! Try again!\")\n",
        "            self.wrong_answers += 1\n",
        "\n",
        "    def play_again(self):\n",
        "        print(\"Do you want to play again?\")\n",
        "        user_input = input(\"Enter Y for yes or N for no: \").upper()\n",
        "\n",
        "        if user_input == \"Y\":\n",
        "            self.play()\n",
        "\n",
        "        else:\n",
        "            print()\n",
        "            print(\"By By!\")\n",
        "\n",
        "    def print_current_progress(self):\n",
        "        # The current game progression is printed.\n",
        "        print()\n",
        "        print(self.my_hangman_portre[self.wrong_answers])\n",
        "        print(\"Word so far: \", self.so_far)\n",
        "        print(\"Letters used: \", sorted(self.used))\n",
        "    def print_result(self):\n",
        "        # The result is printed (win or lose).\n",
        "        print()\n",
        "        if self.wrong_answers == len(self.my_hangman_portre):\n",
        "            print(\"UNLUCKY! Better luck next time!\")\n",
        "        else:\n",
        "            print(\"WINNER! Congratulations!\")\n",
        "\n",
        "    def reset_the_game(self):\n",
        "        # By invoking the constructor, the game is reset.\n",
        "        self.__init__()\n",
        "\n",
        "    def start_the_game(self):\n",
        "        # The game begins by printing an introduction and \n",
        "        # instructing the user to proceed by pressing the ENTER key.\n",
        "        print()\n",
        "        print(\"\\t\\tWelcome to Hangman!\")\n",
        "        print()\n",
        "        input(\"Press Enter to START:\")\n",
        "\n",
        "    def user_guess(self):\n",
        "        # The user is asked to guess a letter, and \n",
        "        # the result is the user's guessed letter.\n",
        "        guess = input(\"Guess a letter: \").upper()\n",
        "        sleep(1)\n",
        "        print()\n",
        "\n",
        "        while guess in self.used:\n",
        "            print(\"Try again... You've already used this letter\")\n",
        "            guess = input(\"Guess a letter: \").upper()\n",
        "            sleep(1)\n",
        "            print()\n",
        "\n",
        "        self.used.append(guess)\n",
        "        return guess"
      ],
      "metadata": {
        "id": "prkbhLFPa-ZW"
      },
      "execution_count": null,
      "outputs": []
    },
    {
      "cell_type": "markdown",
      "source": [
        "#Exercise 8.4: Sparse and dense vectors\n"
      ],
      "metadata": {
        "id": "4NR6v8oCa0af"
      }
    },
    {
      "cell_type": "code",
      "source": [
        "#b\n",
        "class SparseVector:\n",
        "  def __add__(self, other):\n",
        "    result = {}\n",
        "    for item in self : \n",
        "      if item in other:\n",
        "        new_val = self[item] + other[item]\n",
        "      else:\n",
        "        new_val = self[item] \n",
        "      result[item] = new_val\n",
        "    for item in other:\n",
        "      if item not in result:\n",
        "        result[item] = other[item]\n"
      ],
      "metadata": {
        "id": "lV-Bk2iJa45n"
      },
      "execution_count": null,
      "outputs": []
    },
    {
      "cell_type": "markdown",
      "source": [
        "#Exercise 8.5: Implementing the set class"
      ],
      "metadata": {
        "id": "zJhZlfhdm0vj"
      }
    },
    {
      "cell_type": "code",
      "source": [
        "class mySet():\n",
        "  def __init__(self,data):\n",
        "    if (data is not None):\n",
        "      self._list = list(data)\n",
        "    else:\n",
        "      self._list = list()\n",
        "  def __repr__(self):\n",
        "        return \"<{0} {1}>\".format(self.__class__.__name__, self._list)\n",
        "\n",
        "  def __len__(self):\n",
        "      \"\"\"List length\"\"\"\n",
        "      return len(self._list)\n",
        "\n",
        "  def __getitem__(self, index):\n",
        "      \"\"\"Get a list item\"\"\"\n",
        "      if isinstance(index, slice):                                               \n",
        "          return self.__class__(self._list[index])                                \n",
        "      else:                                                                   \n",
        "          return self._list[index] \n",
        "\n",
        "  def __delitem__(self, index):\n",
        "      \"\"\"Delete an item\"\"\"\n",
        "      del self._list[index]\n",
        "\n",
        "  def __setitem__(self, index, val):\n",
        "      self._list[index] = val\n",
        "\n",
        "  def __str__(self):\n",
        "      return str(self._list)\n",
        "\n",
        "  def insert(self, index, val):\n",
        "      self._list.insert(index, val)\n",
        "\n",
        "  def append(self, val):\n",
        "      self.insert(len(self._list), val)"
      ],
      "metadata": {
        "id": "f36i0xFFldZT"
      },
      "execution_count": null,
      "outputs": []
    },
    {
      "cell_type": "markdown",
      "source": [
        "#Exercise 8.6: Binary search tree"
      ],
      "metadata": {
        "id": "8nAFU0N3irAo"
      }
    },
    {
      "cell_type": "code",
      "source": [
        "#a\n",
        "class Node:\n",
        "    def __init__(self, key):\n",
        "        self.left = None\n",
        "        self.right = None\n",
        "        self.key = key\n",
        "\n"
      ],
      "metadata": {
        "id": "aMVeYUDIgdvL"
      },
      "execution_count": null,
      "outputs": []
    },
    {
      "cell_type": "code",
      "source": [
        "#b\n",
        "def inorder(root):\n",
        "    if root:\n",
        "        inorder(root.left)\n",
        "        print(root.key)\n",
        "        inorder(root.right)"
      ],
      "metadata": {
        "id": "dugiO8pRgxnU"
      },
      "execution_count": null,
      "outputs": []
    },
    {
      "cell_type": "code",
      "source": [
        "#c\n",
        "def insert(root, key):\n",
        "    if root is None:\n",
        "        return Node(key)\n",
        "    else:\n",
        "        if root.key == key:\n",
        "            return root\n",
        "        elif root.key < key:\n",
        "            root.right = insert(root.right, key)\n",
        "        else:\n",
        "            root.left = insert(root.left, key)\n",
        "    return root\n",
        "r = Node(50)\n",
        "r = insert(r, 30)\n",
        "r = insert(r, 20)\n",
        "r = insert(r, 40)\n",
        "r = insert(r, 70)\n",
        "r = insert(r, 60)\n",
        "r = insert(r, 80)\n",
        "\n",
        "inorder(r)"
      ],
      "metadata": {
        "colab": {
          "base_uri": "https://localhost:8080/"
        },
        "id": "oFVJGrHkgyW0",
        "outputId": "cd535047-7f47-4175-9818-bb7f5318a1c8"
      },
      "execution_count": null,
      "outputs": [
        {
          "output_type": "stream",
          "name": "stdout",
          "text": [
            "20\n",
            "30\n",
            "40\n",
            "50\n",
            "60\n",
            "70\n",
            "80\n"
          ]
        }
      ]
    },
    {
      "cell_type": "code",
      "source": [
        "#d\n",
        "def minValueNode(node):\n",
        "    current = node\n",
        " \n",
        "    # loop down to find the leftmost leaf\n",
        "    while(current.left is not None):\n",
        "        current = current.left\n",
        " \n",
        "    return current\n",
        "\n",
        "def deleteNode(root, key):\n",
        " \n",
        "    # Base Case\n",
        "    if root is None:\n",
        "        return root\n",
        " \n",
        "    # If the key to be deleted\n",
        "    # is smaller than the root's\n",
        "    # key then it lies in  left subtree\n",
        "    if key < root.key:\n",
        "        root.left = deleteNode(root.left, key)\n",
        " \n",
        "    # If the kye to be delete\n",
        "    # is greater than the root's key\n",
        "    # then it lies in right subtree\n",
        "    elif(key > root.key):\n",
        "        root.right = deleteNode(root.right, key)\n",
        " \n",
        "    # If key is same as root's key, then this is the node\n",
        "    # to be deleted\n",
        "    else:\n",
        " \n",
        "        # Node with only one child or no child\n",
        "        if root.left is None:\n",
        "            temp = root.right\n",
        "            root = None\n",
        "            return temp\n",
        " \n",
        "        elif root.right is None:\n",
        "            temp = root.left\n",
        "            root = None\n",
        "            return temp\n",
        " \n",
        "        # Node with two children:\n",
        "        # Get the inorder successor\n",
        "        # (smallest in the right subtree)\n",
        "        temp = minValueNode(root.right)\n",
        " \n",
        "        # Copy the inorder successor's\n",
        "        # content to this node\n",
        "        root.key = temp.key\n",
        " \n",
        "        # Delete the inorder successor\n",
        "        root.right = deleteNode(root.right, temp.key)\n",
        " \n",
        "    return root\n",
        "root = None\n",
        "root = insert(root, 50)\n",
        "root = insert(root, 30)\n",
        "root = insert(root, 20)\n",
        "root = insert(root, 40)\n",
        "root = insert(root, 70)\n",
        "root = insert(root, 60)\n",
        "root = insert(root, 80)\n",
        "print (\"\\nDelete 50\")\n",
        "root = deleteNode(root, 50)\n",
        "print (\"Inorder traversal of the modified tree\")\n",
        "inorder(root)"
      ],
      "metadata": {
        "id": "hnySqXkOhO7N",
        "colab": {
          "base_uri": "https://localhost:8080/"
        },
        "outputId": "e0ff4d57-0e14-482d-b38a-e18a93f53fcc"
      },
      "execution_count": null,
      "outputs": [
        {
          "output_type": "stream",
          "name": "stdout",
          "text": [
            "\n",
            "Delete 50\n",
            "Inorder traversal of the modified tree\n",
            "20\n",
            "30\n",
            "40\n",
            "60\n",
            "70\n",
            "80\n"
          ]
        }
      ]
    },
    {
      "cell_type": "code",
      "source": [
        "#d\n",
        "# A utility function to search a given key in BST\n",
        "def search(root,key):\n",
        "     \n",
        "    # Base Cases: root is null or key is present at root\n",
        "    if root is None or root.key == key:\n",
        "        return root\n",
        " \n",
        "    # Key is greater than root's key\n",
        "    if root.key < key:\n",
        "        return search(root.right,key)\n",
        "   \n",
        "    # Key is smaller than root's key\n",
        "    return search(root.left,key)\n",
        " \n",
        "# This code is contributed by Bhavya Jain"
      ],
      "metadata": {
        "id": "8fBZGwpYg7nD"
      },
      "execution_count": null,
      "outputs": []
    },
    {
      "cell_type": "code",
      "source": [
        ""
      ],
      "metadata": {
        "id": "ezh-GYmj4lW8"
      },
      "execution_count": null,
      "outputs": []
    }
  ]
}